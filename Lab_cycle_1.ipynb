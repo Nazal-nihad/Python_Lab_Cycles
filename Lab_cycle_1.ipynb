{
  "nbformat": 4,
  "nbformat_minor": 0,
  "metadata": {
    "colab": {
      "provenance": [],
      "authorship_tag": "ABX9TyNLiL8A9YeQ8e11rmXfaU2p",
      "include_colab_link": true
    },
    "kernelspec": {
      "name": "python3",
      "display_name": "Python 3"
    },
    "language_info": {
      "name": "python"
    }
  },
  "cells": [
    {
      "cell_type": "markdown",
      "metadata": {
        "id": "view-in-github",
        "colab_type": "text"
      },
      "source": [
        "<a href=\"https://colab.research.google.com/github/Nazal-nihad/Raptor_to_python/blob/main/Lab_cycle_1.ipynb\" target=\"_parent\"><img src=\"https://colab.research.google.com/assets/colab-badge.svg\" alt=\"Open In Colab\"/></a>"
      ]
    },
    {
      "cell_type": "markdown",
      "source": [
        "**Qn 1**"
      ],
      "metadata": {
        "id": "ID1iecvhEBXo"
      }
    },
    {
      "cell_type": "code",
      "execution_count": null,
      "metadata": {
        "colab": {
          "base_uri": "https://localhost:8080/"
        },
        "id": "I3FCYYgtD7Di",
        "outputId": "6e242efa-dc97-4155-89b4-4e946264cab1"
      },
      "outputs": [
        {
          "output_type": "stream",
          "name": "stdout",
          "text": [
            "enter a 4 digit number : 3576\n",
            "\n",
            " the reverse of the number is :  6753  \n",
            " the sum of the integers in the number is :  21 \n",
            " the differce b/w products of integers in even place and odd place is :  -9\n"
          ]
        }
      ],
      "source": [
        "\n",
        "num = int(input(\"enter a 4 digit number : \"))\n",
        "length = len(str(num))\n",
        "\n",
        "if(length == 4):\n",
        "  i , reverse , sum = 1,0,0\n",
        "  odd_place , even_place = 1,1\n",
        "\n",
        "  while(i<=length):\n",
        "    #finding the last digit\n",
        "    a = num%10\n",
        "\n",
        "    if i%2==0: \n",
        "      #checking even place , multiplying and storing                \n",
        "      even_place = even_place*a \n",
        "    else:\n",
        "      #checking odd place , multiplying and storing                      \n",
        "      odd_place = odd_place*a \n",
        "\n",
        "    #reverse the integer\n",
        "    reverse = reverse*10 + a\n",
        "    #find sum of integer \n",
        "    sum += a \n",
        "    #change original digit                  \n",
        "    num=num//10      \n",
        "    i+=1\n",
        "\n",
        "  #difference b/w product of numbers at odd and even place \n",
        "  difference =  even_place-odd_place\n",
        "  print(\"\\n the reverse of the number is : \",reverse,\" \\n the sum of the integers in the number is : \" ,sum,\"\\n the differce b/w products of integers in even place and odd place is : \",difference)\n",
        "else:\n",
        "  print(\"Please enter a 4 digit number!!\")"
      ]
    },
    {
      "cell_type": "markdown",
      "source": [
        "**Qn 2**"
      ],
      "metadata": {
        "id": "j53SZolAPzT6"
      }
    },
    {
      "cell_type": "code",
      "source": [
        "import math\n",
        "\n",
        "#function to get input of 3 sides of a triangle\n",
        "def sides():\n",
        "  s1 = int(input(\"enter the side 1 : \"))\n",
        "  s2 = int(input(\"enter the side 2 : \"))\n",
        "  s3 = int(input(\"enter the side 3 : \"))\n",
        "  return s1,s2,s3\n",
        "\n",
        "#function to find are from the given sides \n",
        "def area(s1,s2,s3):\n",
        "  area = 0\n",
        "  #semi perimeter \n",
        "  s = (s1+s2+s3)/2\n",
        "  area = math.sqrt(s*(s-s1)*(s-s2)*(s-s3))\n",
        "  print(\"area of the triangle is : \",round(area,2)) #area rounded off to 2 digits\n",
        "  return area\n",
        "\n",
        "#function to find contribution of each triangle in total area\n",
        "def percentage(area1,area2):\n",
        "  total = area1+area2\n",
        "  print(\"\\n total are of the triangles are : \",round(total,2))\n",
        "  #contribution of triangle 1 and round off to 2 digits\n",
        "  triangle1 = round(area1*100/total,2)\n",
        "  #contribution of triangle 2 and round off to 2 digits\n",
        "  triangle2 = round(area2*100/total,2)\n",
        "\n",
        "  print(\" percentage contribution of triangle 1 in total area is : \",triangle1,\"%\")\n",
        "  print(\" percentage contribution of triangle 2 in total area is : \",triangle2,\"%\")\n",
        "\n",
        "print(\"\\n --- Triangle 1 ---\")\n",
        "#call function to get sides\n",
        "a,b,c = sides()\n",
        "#call function to find area\n",
        "area1 = area(a,b,c)\n",
        "\n",
        "print(\"\\n --- Triangle 2 ---\")\n",
        "a1,b2,c3 = sides()\n",
        "area2 = area(a1,b2,c3)\n",
        "\n",
        "#call function to find percentage of each\n",
        "percentage(area1,area2)"
      ],
      "metadata": {
        "colab": {
          "base_uri": "https://localhost:8080/"
        },
        "id": "oCLiYPVUHl-2",
        "outputId": "22a3d081-2d1f-4769-ab45-0f05e9c248b4"
      },
      "execution_count": null,
      "outputs": [
        {
          "output_type": "stream",
          "name": "stdout",
          "text": [
            "\n",
            " --- Triangle 1 ---\n",
            "enter the side 1 : 3\n",
            "enter the side 2 : 4\n",
            "enter the side 3 : 5\n",
            "area of the triangle is :  6.0\n",
            "\n",
            " --- Triangle 2 ---\n",
            "enter the side 1 : 6\n",
            "enter the side 2 : 6\n",
            "enter the side 3 : 6\n",
            "area of the triangle is :  15.59\n",
            "\n",
            " total are of the triangles are :  21.59\n",
            " percentage contribution of triangle 1 in total area is :  27.79 %\n",
            " percentage contribution of triangle 2 in total area is :  72.21 %\n"
          ]
        }
      ]
    },
    {
      "cell_type": "markdown",
      "source": [
        "**Qn 4**"
      ],
      "metadata": {
        "id": "e6G-xxAVBgyy"
      }
    },
    {
      "cell_type": "code",
      "source": [
        "#happy number problem \n",
        "\n",
        "def happy(num):\n",
        "  for i in range(1,101):\n",
        "    sum = 0\n",
        "    while num>0:\n",
        "      remainder = num%10\n",
        "      sum = sum + remainder**2\n",
        "      num = num//10\n",
        "\n",
        "    if sum==1:\n",
        "      return True\n",
        "    elif num<1:\n",
        "      num = sum\n",
        "    if i==100 :\n",
        "      return False\n",
        "\n",
        "def range_happy(lower , upper):\n",
        "  happy_count = 0 \n",
        "  for i in range(lower , upper):\n",
        "    if happy(i) == True:\n",
        "      happy_count += 1\n",
        "      print(i)\n",
        "  if happy_count == 0:\n",
        "      print(\"there are no happy numbers in the given range\")\n",
        "\n",
        "def n_happy(limit):\n",
        "  n = 0\n",
        "  i=1\n",
        "  while i>=1:\n",
        "    if happy(i) == True:\n",
        "      print(i)\n",
        "      n+=1\n",
        "    i+=1\n",
        "    if n == limit:\n",
        "      break\n",
        "\n",
        "print(\"\\n--- To check if a number is happy or sad ---\")\n",
        "num = int(input(\"enter num : \"))\n",
        "if happy(num) == True:\n",
        "  print(num , \" is a happy number\")\n",
        "else:\n",
        "  print(num , \" the number is sad\")\n",
        "\n",
        "print(\"\\n--- To find the happy numbers in the given range ---\")\n",
        "\n",
        "lower = int(input(\"Enter the lower limit : \"))\n",
        "upper = int(input(\"Enter the upper limit : \"))\n",
        "range_happy(lower,upper)\n",
        "\n",
        "print(\"\\n--- To find n happy numbers ---\")\n",
        "limit =  int(input(\"enter the limit : \"))\n",
        "n_happy(limit)\n"
      ],
      "metadata": {
        "id": "8WYdqzNUR0BK",
        "colab": {
          "base_uri": "https://localhost:8080/"
        },
        "outputId": "9064b099-ce96-49af-a940-e7ee1ecec08c"
      },
      "execution_count": 86,
      "outputs": [
        {
          "output_type": "stream",
          "name": "stdout",
          "text": [
            "\n",
            "--- To check if a number is happy or sad ---\n",
            "enter num : 97\n",
            "97  is a happy number\n",
            "\n",
            "--- To find the happy numbers in the given range ---\n",
            "Enter the lower limit : 1\n",
            "Enter the upper limit : 15\n",
            "1\n",
            "7\n",
            "10\n",
            "13\n",
            "\n",
            "--- To find n happy numbers ---\n",
            "enter the limit : 5\n",
            "1\n",
            "7\n",
            "10\n",
            "13\n",
            "19\n"
          ]
        }
      ]
    },
    {
      "cell_type": "markdown",
      "source": [
        "Qn 3"
      ],
      "metadata": {
        "id": "nMMX5O7Ku5UR"
      }
    },
    {
      "cell_type": "code",
      "source": [
        "def gross_salary(bp,da,hra,ma):\n",
        "  gross_salary = bp+da+hra+ma\n",
        "  return gross_salary\n",
        "\n",
        "def deduction(pt,pf,it):\n",
        "  deduction = pt+pf+it\n",
        "  return deduction\n",
        "\n",
        "def net_salary(gs,d):\n",
        "  net_salary = (gs - d)\n",
        "  return net_salary\n",
        "\n",
        "def payment_slip(name,code,basic_pay):\n",
        "  if basic_pay<10000:\n",
        "    da = (5*basic_pay)/100\n",
        "    hra = (2.5*basic_pay)/100\n",
        "    ma = 500\n",
        "    pt = 20\n",
        "    pf = (8*basic_pay)/100\n",
        "    it = 0\n",
        "    Gross_Salary = gross_salary(basic_pay,da,hra,ma)\n",
        "    Deduction = deduction(pt,pf,it)\n",
        "    Net_Salary = net_salary(Gross_Salary,Deduction)\n",
        "\n",
        "  elif basic_pay<30000:\n",
        "    da = (7.5*basic_pay)/100\n",
        "    hra = (5*basic_pay)/100\n",
        "    ma = 2500\n",
        "    pt = 60\n",
        "    pf = (8*basic_pay)/100\n",
        "    it = 0\n",
        "    Gross_Salary = gross_salary(basic_pay,da,hra,ma)\n",
        "    Deduction = deduction(pt,pf,it)\n",
        "    Net_Salary = net_salary(Gross_Salary,Deduction)\n",
        "\n",
        "  elif basic_pay<50000:\n",
        "    da = (11*basic_pay)/100\n",
        "    hra = (7.5*basic_pay)/100\n",
        "    ma = 5000\n",
        "    pt = 60\n",
        "    pf = (11*basic_pay)/100\n",
        "    it = (11*basic_pay)/100\n",
        "    Gross_Salary = gross_salary(basic_pay,da,hra,ma)\n",
        "    Deduction = deduction(pt,pf,it)\n",
        "    Net_Salary = net_salary(Gross_Salary,Deduction)\n",
        "\n",
        "  else:\n",
        "    da = (25*basic_pay)/100\n",
        "    hra = (7.5*basic_pay)/100\n",
        "    ma = 5000\n",
        "    pt = 60\n",
        "    pf = (12*basic_pay)/100\n",
        "    it = (20*basic_pay)/100\n",
        "    Gross_Salary = gross_salary(basic_pay,da,hra,ma)\n",
        "    Deduction = deduction(pt,pf,it)\n",
        "    Net_Salary = net_salary(Gross_Salary,Deduction)\n",
        "\n",
        "  print(\"\\n--- payment slip ---\")\n",
        "  print(\"Employee name : \",name)\n",
        "  print(\"Employee code : \",code)\n",
        "  print(\"Employee Basic pay : \",basic_pay)\n",
        "  print(\"Employee Gross Salary : \",Gross_Salary)\n",
        "  print(\"Employee deduction : \",Deduction)\n",
        "  print(\"Employee Net Salary : \",Net_Salary)\n",
        "  \n",
        "\n",
        "name = str(input(\"enter your name : \"))\n",
        "code = int(input(\"enter your code : \"))\n",
        "basic_pay = int(input(\"please enter your basic pay : \"))\n",
        "\n",
        "payment_slip(name,code,basic_pay)"
      ],
      "metadata": {
        "colab": {
          "base_uri": "https://localhost:8080/"
        },
        "id": "yBUY1raytIPB",
        "outputId": "0764a7d6-78ca-4f91-beca-b0283a35151a"
      },
      "execution_count": 84,
      "outputs": [
        {
          "output_type": "stream",
          "name": "stdout",
          "text": [
            "enter your name : Nazal Nihad TT\n",
            "enter your code : 17\n",
            "please enter your basic pay : 333333\n",
            "\n",
            "--- payment slip ---\n",
            "Employee name :  Nazal Nihad TT\n",
            "Employee code :  17\n",
            "Employee Basic pay :  333333\n",
            "Employee Gross Salary :  446666.225\n",
            "Employee deduction :  106726.56\n",
            "Employee Net Salary :  339939.665\n"
          ]
        }
      ]
    },
    {
      "cell_type": "markdown",
      "source": [
        "**Qn 5**"
      ],
      "metadata": {
        "id": "cn4cWvc4-_eB"
      }
    }
  ]
}