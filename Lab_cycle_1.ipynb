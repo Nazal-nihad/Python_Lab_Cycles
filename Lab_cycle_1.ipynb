{
  "nbformat": 4,
  "nbformat_minor": 0,
  "metadata": {
    "colab": {
      "provenance": [],
      "authorship_tag": "ABX9TyMG23FD1DnZX3DNbqxnvtuY",
      "include_colab_link": true
    },
    "kernelspec": {
      "name": "python3",
      "display_name": "Python 3"
    },
    "language_info": {
      "name": "python"
    }
  },
  "cells": [
    {
      "cell_type": "markdown",
      "metadata": {
        "id": "view-in-github",
        "colab_type": "text"
      },
      "source": [
        "<a href=\"https://colab.research.google.com/github/Nazal-nihad/Raptor_to_python/blob/main/Lab_cycle_1.ipynb\" target=\"_parent\"><img src=\"https://colab.research.google.com/assets/colab-badge.svg\" alt=\"Open In Colab\"/></a>"
      ]
    },
    {
      "cell_type": "markdown",
      "source": [
        "**Qn 1**"
      ],
      "metadata": {
        "id": "ID1iecvhEBXo"
      }
    },
    {
      "cell_type": "code",
      "execution_count": null,
      "metadata": {
        "colab": {
          "base_uri": "https://localhost:8080/"
        },
        "id": "I3FCYYgtD7Di",
        "outputId": "6e242efa-dc97-4155-89b4-4e946264cab1"
      },
      "outputs": [
        {
          "output_type": "stream",
          "name": "stdout",
          "text": [
            "enter a 4 digit number : 3576\n",
            "\n",
            " the reverse of the number is :  6753  \n",
            " the sum of the integers in the number is :  21 \n",
            " the differce b/w products of integers in even place and odd place is :  -9\n"
          ]
        }
      ],
      "source": [
        "\n",
        "num = int(input(\"enter a 4 digit number : \"))\n",
        "length = len(str(num))\n",
        "\n",
        "if(length == 4):\n",
        "  i , reverse , sum = 1,0,0\n",
        "  odd_place , even_place = 1,1\n",
        "\n",
        "  while(i<=length):\n",
        "    #finding the last digit\n",
        "    a = num%10\n",
        "\n",
        "    if i%2==0: \n",
        "      #checking even place , multiplying and storing                \n",
        "      even_place = even_place*a \n",
        "    else:\n",
        "      #checking odd place , multiplying and storing                      \n",
        "      odd_place = odd_place*a \n",
        "\n",
        "    #reverse the integer\n",
        "    reverse = reverse*10 + a\n",
        "    #find sum of integer \n",
        "    sum += a \n",
        "    #change original digit                  \n",
        "    num=num//10      \n",
        "    i+=1\n",
        "\n",
        "  #difference b/w product of numbers at odd and even place \n",
        "  difference =  even_place-odd_place\n",
        "  print(\"\\n the reverse of the number is : \",reverse,\" \\n the sum of the integers in the number is : \" ,sum,\"\\n the differce b/w products of integers in even place and odd place is : \",difference)\n",
        "else:\n",
        "  print(\"Please enter a 4 digit number!!\")"
      ]
    },
    {
      "cell_type": "markdown",
      "source": [
        "**Qn 2**"
      ],
      "metadata": {
        "id": "j53SZolAPzT6"
      }
    },
    {
      "cell_type": "code",
      "source": [
        "import math\n",
        "\n",
        "#function to get input of 3 sides of a triangle\n",
        "def sides():\n",
        "  s1 = int(input(\"enter the side 1 : \"))\n",
        "  s2 = int(input(\"enter the side 2 : \"))\n",
        "  s3 = int(input(\"enter the side 3 : \"))\n",
        "  return s1,s2,s3\n",
        "\n",
        "#function to find are from the given sides \n",
        "def area(s1,s2,s3):\n",
        "  area = 0\n",
        "  #semi perimeter \n",
        "  s = (s1+s2+s3)/2\n",
        "  area = math.sqrt(s*(s-s1)*(s-s2)*(s-s3))\n",
        "  print(\"area of the triangle is : \",round(area,2)) #area rounded off to 2 digits\n",
        "  return area\n",
        "\n",
        "#function to find contribution of each triangle in total area\n",
        "def percentage(area1,area2):\n",
        "  total = area1+area2\n",
        "  print(\"\\n total are of the triangles are : \",round(total,2))\n",
        "  #contribution of triangle 1 and round off to 2 digits\n",
        "  triangle1 = round(area1*100/total,2)\n",
        "  #contribution of triangle 2 and round off to 2 digits\n",
        "  triangle2 = round(area2*100/total,2)\n",
        "\n",
        "  print(\" percentage contribution of triangle 1 in total area is : \",triangle1,\"%\")\n",
        "  print(\" percentage contribution of triangle 2 in total area is : \",triangle2,\"%\")\n",
        "\n",
        "print(\"\\n --- Triangle 1 ---\")\n",
        "#call function to get sides\n",
        "a,b,c = sides()\n",
        "#call function to find area\n",
        "area1 = area(a,b,c)\n",
        "\n",
        "print(\"\\n --- Triangle 2 ---\")\n",
        "a1,b2,c3 = sides()\n",
        "area2 = area(a1,b2,c3)\n",
        "\n",
        "#call function to find percentage of each\n",
        "percentage(area1,area2)"
      ],
      "metadata": {
        "colab": {
          "base_uri": "https://localhost:8080/"
        },
        "id": "oCLiYPVUHl-2",
        "outputId": "22a3d081-2d1f-4769-ab45-0f05e9c248b4"
      },
      "execution_count": null,
      "outputs": [
        {
          "output_type": "stream",
          "name": "stdout",
          "text": [
            "\n",
            " --- Triangle 1 ---\n",
            "enter the side 1 : 3\n",
            "enter the side 2 : 4\n",
            "enter the side 3 : 5\n",
            "area of the triangle is :  6.0\n",
            "\n",
            " --- Triangle 2 ---\n",
            "enter the side 1 : 6\n",
            "enter the side 2 : 6\n",
            "enter the side 3 : 6\n",
            "area of the triangle is :  15.59\n",
            "\n",
            " total are of the triangles are :  21.59\n",
            " percentage contribution of triangle 1 in total area is :  27.79 %\n",
            " percentage contribution of triangle 2 in total area is :  72.21 %\n"
          ]
        }
      ]
    },
    {
      "cell_type": "markdown",
      "source": [
        "**Qn 4**"
      ],
      "metadata": {
        "id": "e6G-xxAVBgyy"
      }
    },
    {
      "cell_type": "code",
      "source": [
        "#happy number problem \n",
        "\n",
        "def happy(num):\n",
        "  for i in range(1,101):\n",
        "    sum = 0\n",
        "    while num>0:\n",
        "      remainder = num%10\n",
        "      sum = sum + remainder**2\n",
        "      num = num//10\n",
        "\n",
        "    if sum==1:\n",
        "      return True\n",
        "    elif num<1:\n",
        "      num = sum\n",
        "    if i==100 :\n",
        "      return False\n",
        "\n",
        "def range_happy(lower , upper):\n",
        "  happy_count = 0 \n",
        "  for i in range(lower , upper):\n",
        "    if happy(i) == True:\n",
        "      happy_count += 1\n",
        "      print(i)\n",
        "  if happy_count == 0:\n",
        "      print(\"there are no happy numbers in the given range\")\n",
        "\n",
        "def n_happy(limit):\n",
        "  n = 0\n",
        "  i=1\n",
        "  while i>=1:\n",
        "    if happy(i) == True:\n",
        "      print(i)\n",
        "      n+=1\n",
        "    i+=1\n",
        "    if n == limit:\n",
        "      break\n",
        "\n",
        "print(\"\\n--- To check if a number is happy or sad ---\")\n",
        "num = int(input(\"enter num : \"))\n",
        "if happy(num) == True:\n",
        "  print(num , \" is a happy number\")  \n",
        "else:\n",
        "  print(num , \" is a sad number \")\n",
        "print(\"\\n--- To find the happy numbers in the given range ---\")\n",
        "\n",
        "lower = int(input(\"Enter the lower limit : \"))\n",
        "upper = int(input(\"Enter the upper limit : \"))\n",
        "range_happy(lower,upper)\n",
        "\n",
        "print(\"\\n--- To find n happy numbers ---\")\n",
        "limit =  int(input(\"enter the limit : \"))\n",
        "n_happy(limit)\n"
      ],
      "metadata": {
        "id": "8WYdqzNUR0BK",
        "colab": {
          "base_uri": "https://localhost:8080/"
        },
        "outputId": "114996ef-af48-4363-82c1-f8fcad744113"
      },
      "execution_count": 4,
      "outputs": [
        {
          "output_type": "stream",
          "name": "stdout",
          "text": [
            "\n",
            "--- To check if a number is happy or sad ---\n",
            "enter num : 13\n",
            "13  is a happy number\n",
            "\n",
            "--- To find the happy numbers in the given range ---\n",
            "Enter the lower limit : 1\n",
            "Enter the upper limit : 4\n",
            "1\n",
            "\n",
            "--- To find n happy numbers ---\n",
            "enter the limit : 10\n",
            "1\n",
            "7\n",
            "10\n",
            "13\n",
            "19\n",
            "23\n",
            "28\n",
            "31\n",
            "32\n",
            "44\n"
          ]
        }
      ]
    },
    {
      "cell_type": "markdown",
      "source": [
        "Qn 3"
      ],
      "metadata": {
        "id": "nMMX5O7Ku5UR"
      }
    },
    {
      "cell_type": "code",
      "source": [
        "def gross_salary(bp,da,hra,ma):\n",
        "  gross_salary = bp+da+hra+ma\n",
        "  return gross_salary\n",
        "\n",
        "def deduction(pt,pf,it):\n",
        "  deduction = pt+pf+it\n",
        "  return deduction\n",
        "\n",
        "def net_salary(gs,d):\n",
        "  net_salary = (gs - d)\n",
        "  return net_salary\n",
        "\n",
        "def payment_slip(name,code,basic_pay):\n",
        "  if basic_pay<10000:\n",
        "    da = (5*basic_pay)/100\n",
        "    hra = (2.5*basic_pay)/100\n",
        "    ma = 500\n",
        "    pt = 20\n",
        "    pf = (8*basic_pay)/100\n",
        "    it = 0\n",
        "    Gross_Salary = gross_salary(basic_pay,da,hra,ma)\n",
        "    Deduction = deduction(pt,pf,it)\n",
        "    Net_Salary = net_salary(Gross_Salary,Deduction)\n",
        "\n",
        "  elif basic_pay<30000:\n",
        "    da = (7.5*basic_pay)/100\n",
        "    hra = (5*basic_pay)/100\n",
        "    ma = 2500\n",
        "    pt = 60\n",
        "    pf = (8*basic_pay)/100\n",
        "    it = 0\n",
        "    Gross_Salary = gross_salary(basic_pay,da,hra,ma)\n",
        "    Deduction = deduction(pt,pf,it)\n",
        "    Net_Salary = net_salary(Gross_Salary,Deduction)\n",
        "\n",
        "  elif basic_pay<50000:\n",
        "    da = (11*basic_pay)/100\n",
        "    hra = (7.5*basic_pay)/100\n",
        "    ma = 5000\n",
        "    pt = 60\n",
        "    pf = (11*basic_pay)/100\n",
        "    it = (11*basic_pay)/100\n",
        "    Gross_Salary = gross_salary(basic_pay,da,hra,ma)\n",
        "    Deduction = deduction(pt,pf,it)\n",
        "    Net_Salary = net_salary(Gross_Salary,Deduction)\n",
        "\n",
        "  else:\n",
        "    da = (25*basic_pay)/100\n",
        "    hra = (7.5*basic_pay)/100\n",
        "    ma = 5000\n",
        "    pt = 60\n",
        "    pf = (12*basic_pay)/100\n",
        "    it = (20*basic_pay)/100\n",
        "    Gross_Salary = gross_salary(basic_pay,da,hra,ma)\n",
        "    Deduction = deduction(pt,pf,it)\n",
        "    Net_Salary = net_salary(Gross_Salary,Deduction)\n",
        "\n",
        "  print(\"\\n--- PAYMENT SLIP ---\")\n",
        "  print(\"Employee name : \",name)\n",
        "  print(\"Employee code : \",code)\n",
        "  print(\"Employee Basic pay : \",basic_pay)\n",
        "  print(\"Employee Gross Salary : \",Gross_Salary)\n",
        "  print(\"Employee deduction : \",Deduction)\n",
        "  print(\"Employee Net Salary : \",Net_Salary)\n",
        "  \n",
        "\n",
        "name = str(input(\"enter your name : \"))\n",
        "code = int(input(\"enter your code : \"))\n",
        "basic_pay = int(input(\"please enter your basic pay : \"))\n",
        "\n",
        "payment_slip(name,code,basic_pay)"
      ],
      "metadata": {
        "colab": {
          "base_uri": "https://localhost:8080/"
        },
        "id": "yBUY1raytIPB",
        "outputId": "f510e332-e3ea-40bd-ef10-4bd4388befb0"
      },
      "execution_count": null,
      "outputs": [
        {
          "output_type": "stream",
          "name": "stdout",
          "text": [
            "enter your name : nazal\n",
            "enter your code : 22\n",
            "please enter your basic pay : 1000000\n",
            "\n",
            "--- PAYMENT SLIP ---\n",
            "Employee name :  nazal\n",
            "Employee code :  22\n",
            "Employee Basic pay :  1000000\n",
            "Employee Gross Salary :  1330000.0\n",
            "Employee deduction :  320060.0\n",
            "Employee Net Salary :  1009940.0\n"
          ]
        }
      ]
    },
    {
      "cell_type": "markdown",
      "source": [
        "**Qn 5**"
      ],
      "metadata": {
        "id": "cn4cWvc4-_eB"
      }
    },
    {
      "cell_type": "code",
      "source": [
        "\n",
        "def sub_strings(text):\n",
        "  #function to iterate through the string and find substrings\n",
        "  sub_list = []\n",
        "  for i in range(len(text)+1):\n",
        "    for j in range(i+1,len(text)+1):\n",
        "      sliced = text[i:j]\n",
        "      sub_list.append(sliced)\n",
        "  return sub_list\n",
        "\n",
        "#function to find substrings from the string and print\n",
        "def find_substrings(text):\n",
        "  sub_list = sub_strings((text))\n",
        "  #list is sorted and made into set to remove repetetion\n",
        "  for i in sorted(set(sub_list)):\n",
        "    print(i)\n",
        "\n",
        "#function to find substrings with specified length\n",
        "def k_sub(length,text):\n",
        "  sub_list = sub_strings((text))\n",
        "  for i in sub_list:\n",
        "    if len(i)==length:\n",
        "      print(i)\n",
        "\n",
        "#function to find substrings with specified length and no of distinct characters\n",
        "def n_distinct_and_k_length(distinct,length,text):\n",
        "  sub_list = sub_strings((text))\n",
        "  for i in sub_list:\n",
        "    if len(i)==length:\n",
        "      #make i to set to remove duplicate letters and check with given distinct number\n",
        "      if len(set(i)) == distinct:\n",
        "        print(i)\n",
        "\n",
        "#function to find the substrings with max length and given no of distinct characters \n",
        "def n_distinct_max_k_length(distinct,text):\n",
        "  sub_list = sub_strings(text)\n",
        "\n",
        "  #finds the largest string from list and find it's length\n",
        "  max_length = max(sub_list,key = len)\n",
        "  check_length = len(max_length) \n",
        "  \n",
        "  for i in sub_list:\n",
        "    #iterate through list and check if an element matches the requirements and temporarily store it \n",
        "      if len(i) == check_length:\n",
        "        if len(set(i))==distinct:\n",
        "            temp = i\n",
        "        #if no element matches , max length is reduced , the process is repeated until an element becomes a match\n",
        "        elif check_length>len(set(i)):\n",
        "          check_length -= 1\n",
        "\n",
        "  #check if elements of original list matches the max length and the distinct character condition\n",
        "  for i in sub_list:\n",
        "    if len(i) == len(temp):\n",
        "      if len(set(i)) == distinct:\n",
        "        print(i)\n",
        "\n",
        "#print all the substrings of the given string\n",
        "print(\"\\n----- To print the substrings -----\")\n",
        "text = str(input(\"Enter the word to find the substrings : \"))\n",
        "print(\"\\n The substrings of \",text , \" are \")\n",
        "find_substrings(text)\n",
        "\n",
        "#print substrings of the given length\n",
        "print(\"\\n----- To print the substrings with given length -----\")\n",
        "length = int(input(\" enter the length of string to find substrings : \"))\n",
        "print(\"\\n No of substrings with length \", length,)\n",
        "k_sub(length,text)\n",
        "\n",
        "#print substrings of given length and distinct characters\n",
        "print(\"\\n----- To print the substrings with given length and n distinct characters -----\")\n",
        "distinct = int(input(\" enter the distinct number : \"))\n",
        "print(\"\\n Substrings with length \",length,\" and \",distinct,\" distinct characters are : \")\n",
        "n_distinct_and_k_length(distinct,length,text)\n",
        "\n",
        "#print substrings of max length and distinct characters\n",
        "print(\"\\n----- To print the substrings of max length and given distinct characters -----\")\n",
        "print(\" max length of substrings of the given string with \",distinct,\" distinct characters is : \\n\")\n",
        "n_distinct_max_k_length(distinct,text)"
      ],
      "metadata": {
        "colab": {
          "base_uri": "https://localhost:8080/"
        },
        "id": "Y2zGDs6WFef-",
        "outputId": "7576cee1-1f5a-4d1a-c0f1-1db77d6867f6"
      },
      "execution_count": 56,
      "outputs": [
        {
          "output_type": "stream",
          "name": "stdout",
          "text": [
            "\n",
            "----- To print the substrings -----\n",
            "Enter the word to find the substrings : hakkeem\n",
            "\n",
            " The substrings of  hakkeem  are \n",
            "a\n",
            "ak\n",
            "akk\n",
            "akke\n",
            "akkee\n",
            "akkeem\n",
            "e\n",
            "ee\n",
            "eem\n",
            "em\n",
            "h\n",
            "ha\n",
            "hak\n",
            "hakk\n",
            "hakke\n",
            "hakkee\n",
            "hakkeem\n",
            "k\n",
            "ke\n",
            "kee\n",
            "keem\n",
            "kk\n",
            "kke\n",
            "kkee\n",
            "kkeem\n",
            "m\n",
            "\n",
            "----- To print the substrings with given length -----\n",
            " enter the length of string to find substrings : 4\n",
            "\n",
            " No of substrings with length  4\n",
            "hakk\n",
            "akke\n",
            "kkee\n",
            "keem\n",
            "\n",
            "----- To print the substrings with given length and n distinct characters -----\n",
            " enter the distinct number : 3\n",
            "\n",
            " Substrings with length  4  and  3  distinct characters are : \n",
            "hakk\n",
            "akke\n",
            "keem\n",
            "\n",
            "----- To print the substrings of max length and given distinct characters -----\n",
            " max length of substrings of the given string with  3  distinct characters is : \n",
            "\n",
            "akkee\n",
            "kkeem\n"
          ]
        }
      ]
    },
    {
      "cell_type": "code",
      "source": [],
      "metadata": {
        "id": "ZIPQEzMeG4FT"
      },
      "execution_count": null,
      "outputs": []
    }
  ]
}