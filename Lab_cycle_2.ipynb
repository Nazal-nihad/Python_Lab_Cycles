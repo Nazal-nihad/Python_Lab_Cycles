{
  "nbformat": 4,
  "nbformat_minor": 0,
  "metadata": {
    "colab": {
      "provenance": [],
      "authorship_tag": "ABX9TyM9beE5GaULMMLO8PZ1E1la",
      "include_colab_link": true
    },
    "kernelspec": {
      "name": "python3",
      "display_name": "Python 3"
    },
    "language_info": {
      "name": "python"
    }
  },
  "cells": [
    {
      "cell_type": "markdown",
      "metadata": {
        "id": "view-in-github",
        "colab_type": "text"
      },
      "source": [
        "<a href=\"https://colab.research.google.com/github/Nazal-nihad/Python_Lab_Cycles/blob/main/Lab_cycle_2.ipynb\" target=\"_parent\"><img src=\"https://colab.research.google.com/assets/colab-badge.svg\" alt=\"Open In Colab\"/></a>"
      ]
    },
    {
      "cell_type": "markdown",
      "source": [
        "**QN 1**"
      ],
      "metadata": {
        "id": "QQqpX8v04zVe"
      }
    },
    {
      "cell_type": "code",
      "execution_count": null,
      "metadata": {
        "colab": {
          "base_uri": "https://localhost:8080/"
        },
        "id": "B2LK0if8xKcI",
        "outputId": "baea3b06-088e-4fb4-a6fd-9a6cc5be8969"
      },
      "outputs": [
        {
          "output_type": "stream",
          "name": "stdout",
          "text": [
            "enter the no of months to find : 12\n",
            "Month 1 : 2\n",
            "Month 2 : 2\n",
            "Month 3 : 4\n",
            "Month 4 : 6\n",
            "Month 5 : 10\n",
            "Month 6 : 16\n",
            "Month 7 : 26\n",
            "Month 8 : 42\n",
            "Month 9 : 68\n",
            "Month 10 : 110\n",
            "Month 11 : 178\n",
            "Month 12 : 288\n"
          ]
        }
      ],
      "source": [
        "import pandas as pd\n",
        "ask = int(input(\"enter the no of months to find : \"))\n",
        "if ask==1:\n",
        "  print(2)\n",
        "else:  \n",
        "  month1 = 2\n",
        "  month2 = 2\n",
        "  total,i=0,0\n",
        "  rabbits = [2,2]\n",
        "  for i in range(ask-2):\n",
        "    total = month2+month1\n",
        "    rabbits.append(total)\n",
        "    month1 = month2\n",
        "    month2 = total\n",
        "    i+=1\n",
        "  \n",
        "  data = pd.DataFrame({'no of rabbits': rabbits}, index=range(1, ask+1))\n",
        "  for index, row in data.iterrows():\n",
        "    print(\"Month\", index, \":\", row[\"no of rabbits\"])"
      ]
    },
    {
      "cell_type": "code",
      "source": [
        "ask = int(input(\"enter the no of months to find : \"))\n",
        "if ask==1:\n",
        "  print(2)\n",
        "else:  \n",
        "  month1 = 2\n",
        "  month2 = 2\n",
        "  total,i=0,0\n",
        "  rabbits = [2,2]\n",
        "  for i in range(ask-2):\n",
        "    total = month2+month1\n",
        "    rabbits.append(total)\n",
        "    month1 = month2\n",
        "    month2 = total\n",
        "    i+=1\n",
        "\n",
        "  count=0\n",
        "  for k in rabbits:\n",
        "    print(\"Month \",rabbits.index(k)+1,\" : \",k)\n",
        "    if k==2:\n",
        "      count+=1\n",
        "    if count>0:\n",
        "      rabbits[rabbits.index(k)]=-1"
      ],
      "metadata": {
        "id": "uDn0MeGk6PmT",
        "colab": {
          "base_uri": "https://localhost:8080/"
        },
        "outputId": "2f2ca483-e724-409e-aaa7-fdf3a30debf0"
      },
      "execution_count": null,
      "outputs": [
        {
          "output_type": "stream",
          "name": "stdout",
          "text": [
            "enter the no of months to find : 12\n",
            "Month  1  :  2\n",
            "Month  2  :  2\n",
            "Month  3  :  4\n",
            "Month  4  :  6\n",
            "Month  5  :  10\n",
            "Month  6  :  16\n",
            "Month  7  :  26\n",
            "Month  8  :  42\n",
            "Month  9  :  68\n",
            "Month  10  :  110\n",
            "Month  11  :  178\n",
            "Month  12  :  288\n"
          ]
        }
      ]
    },
    {
      "cell_type": "markdown",
      "source": [
        "QN 2"
      ],
      "metadata": {
        "id": "UiwWjUkK8KEI"
      }
    },
    {
      "cell_type": "code",
      "source": [
        "#string_int = '1 2 2 4 4 6 7 8 9 10 11'\n",
        "string_int = str(input(\"Enter numbers with spaces \"))\n",
        "string_split = string_int.split()\n",
        "print(\"=== Splitted string ===\")\n",
        "print(string_split)\n",
        "string_to_int = [int(i) for i in string_split]\n",
        "print(\"=== String to int is ===\")\n",
        "print(string_to_int)\n",
        "\n",
        "ask = int(input(\"How many times you wanna roate : \"))\n",
        "rotate = (string_to_int[-ask:])\n",
        "left = (string_to_int[0:len(string_to_int)-ask])\n",
        "rotated_list = rotate+left\n",
        "print(\"rotated \",ask,\" times \")\n",
        "print(rotated_list)\n",
        "\n",
        "print(\"== list to tuple ==\")\n",
        "tupled_list = tuple(string_to_int)\n",
        "print(tupled_list)\n",
        "\n",
        "print(\"=== duplicates removed tuple ===\")\n",
        "rm_dupe = tuple(set(tupled_list))\n",
        "print(rm_dupe)\n",
        "\n",
        "print(\"=== duplicates removed tuple to list ===\")\n",
        "no_dupe_list = list(rm_dupe)\n",
        "print(no_dupe_list)\n",
        "\n",
        "print(\"=== operation of f(x)=x^2-x ===\")\n",
        "op_list = [i*i - i for i in string_to_int]\n",
        "print(op_list)\n",
        "\n",
        "print(\"=== sorted list ===\")\n",
        "sorted_list = sorted(set(no_dupe_list+op_list))\n",
        "print(sorted_list)"
      ],
      "metadata": {
        "colab": {
          "base_uri": "https://localhost:8080/"
        },
        "id": "oCdlSe5My8E6",
        "outputId": "f679a287-0053-46f6-f760-39662fa2e318"
      },
      "execution_count": null,
      "outputs": [
        {
          "output_type": "stream",
          "name": "stdout",
          "text": [
            "Enter numbers with spaces 1 2 3 4 5 88 9 9 7 4\n",
            "=== Splitted string ===\n",
            "['1', '2', '3', '4', '5', '88', '9', '9', '7', '4']\n",
            "=== String to int is ===\n",
            "[1, 2, 3, 4, 5, 88, 9, 9, 7, 4]\n",
            "How many times you wanna roate : 2\n",
            "rotated  2  times \n",
            "[7, 4, 1, 2, 3, 4, 5, 88, 9, 9]\n",
            "== list to tuple ==\n",
            "(1, 2, 3, 4, 5, 88, 9, 9, 7, 4)\n",
            "=== duplicates removed tuple ===\n",
            "(1, 2, 3, 4, 5, 7, 9, 88)\n",
            "=== duplicates removed tuple to list ===\n",
            "[1, 2, 3, 4, 5, 7, 9, 88]\n",
            "=== operation of f(x)=x^2-x ===\n",
            "[0, 2, 6, 12, 20, 7656, 72, 72, 42, 12]\n",
            "=== sorted list ===\n",
            "[0, 1, 2, 3, 4, 5, 6, 7, 9, 12, 20, 42, 72, 88, 7656]\n"
          ]
        }
      ]
    },
    {
      "cell_type": "code",
      "source": [],
      "metadata": {
        "id": "3Vw34VBSzsJB"
      },
      "execution_count": null,
      "outputs": []
    }
  ]
}