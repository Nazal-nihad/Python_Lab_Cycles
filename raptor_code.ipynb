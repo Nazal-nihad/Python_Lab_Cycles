{
  "nbformat": 4,
  "nbformat_minor": 0,
  "metadata": {
    "colab": {
      "provenance": [],
      "authorship_tag": "ABX9TyP73xMHvlnSxLdkfMxYFve+",
      "include_colab_link": true
    },
    "kernelspec": {
      "name": "python3",
      "display_name": "Python 3"
    },
    "language_info": {
      "name": "python"
    }
  },
  "cells": [
    {
      "cell_type": "markdown",
      "metadata": {
        "id": "view-in-github",
        "colab_type": "text"
      },
      "source": [
        "<a href=\"https://colab.research.google.com/github/Nazal-nihad/Raptor_to_python/blob/main/raptor_code.ipynb\" target=\"_parent\"><img src=\"https://colab.research.google.com/assets/colab-badge.svg\" alt=\"Open In Colab\"/></a>"
      ]
    },
    {
      "cell_type": "code",
      "execution_count": null,
      "metadata": {
        "colab": {
          "base_uri": "https://localhost:8080/"
        },
        "id": "MCimXTehhmaR",
        "outputId": "9ce08f26-6759-4110-d544-3807d60016d6"
      },
      "outputs": [
        {
          "output_type": "stream",
          "name": "stdout",
          "text": [
            "enter number 1 5\n",
            "enter number 2 3\n",
            "enter number 3 1\n",
            "average is  3.0\n"
          ]
        }
      ],
      "source": [
        "#avg of 3 no's\n",
        "\n",
        "a = int(input(\"enter number 1 : \"))\n",
        "b = int(input(\"enter number 2 : \"))\n",
        "c = int(input(\"enter number 3 : \"))\n",
        "\n",
        "print(\"average is \",((a+b+c)/3))"
      ]
    },
    {
      "cell_type": "code",
      "source": [
        "#to find hr min and second from given seconds\n",
        "\n",
        "time = int(input(\"enter time in seconds : \"))\n",
        "temp_min = time//60\n",
        "second = time%60\n",
        "hr = temp_min//60\n",
        "min = temp_min%60\n",
        "\n",
        "print(\"hrs = \",hr,\", mins = \" , min , \", seconds = \",second)"
      ],
      "metadata": {
        "colab": {
          "base_uri": "https://localhost:8080/"
        },
        "id": "MjLZSvMNh9hj",
        "outputId": "74623e37-1703-4b9b-c6a8-7cf57069677b"
      },
      "execution_count": null,
      "outputs": [
        {
          "output_type": "stream",
          "name": "stdout",
          "text": [
            "enter time in seconds 6050\n",
            "hrs =  1 , mins =  40 , seconds =  50\n"
          ]
        }
      ]
    },
    {
      "cell_type": "code",
      "source": [
        "#to find area of circle \n",
        "\n",
        "pi = 22/7\n",
        "\n",
        "r = int(input(\"enter the radius of the circle\"))\n",
        "print(\"are of the circel is \",pi*r*r)"
      ],
      "metadata": {
        "colab": {
          "base_uri": "https://localhost:8080/"
        },
        "id": "OzwDXKKtkbap",
        "outputId": "6483fb34-aa9c-472b-e3c1-9df30c88a0a6"
      },
      "execution_count": null,
      "outputs": [
        {
          "output_type": "stream",
          "name": "stdout",
          "text": [
            "enter the radius of the circle5\n",
            "are of the circel is  78.57142857142857\n"
          ]
        }
      ]
    },
    {
      "cell_type": "code",
      "source": [
        "#number exchange \n",
        "\n",
        "a = int(input(\"enter the first number a \"))\n",
        "b = int(input(\"enter the second number b \"))\n",
        "a=a+b\n",
        "b=a-b\n",
        "a=a-b\n",
        "print(\"now a is \",a ,\" and b is \",b)"
      ],
      "metadata": {
        "colab": {
          "base_uri": "https://localhost:8080/"
        },
        "id": "GT9V40TilW66",
        "outputId": "6d1db432-7a53-4fc2-a47c-c0f151fc5fc4"
      },
      "execution_count": null,
      "outputs": [
        {
          "output_type": "stream",
          "name": "stdout",
          "text": [
            "enter the first number a 10\n",
            "enter the second number b 5\n",
            "now a is  5  and b is  10\n"
          ]
        }
      ]
    },
    {
      "cell_type": "code",
      "source": [
        "#operators\n",
        "\n",
        "a , b = int(input(\"enter number 1 :\")),int(input(\"second number :\"))\n",
        "print(\"addition \",a+b)\n",
        "print(\"subraction \",a-b)\n",
        "print(\"multiplication \",a*b)\n",
        "print(\"division \",a/b)\n",
        "print(\"remainder \",a%b)\n",
        "print(\"quotient \",a//b)"
      ],
      "metadata": {
        "colab": {
          "base_uri": "https://localhost:8080/"
        },
        "id": "cver3b0cmsFC",
        "outputId": "b567362a-91c1-42d0-9e8b-6f293b632c9b"
      },
      "execution_count": null,
      "outputs": [
        {
          "output_type": "stream",
          "name": "stdout",
          "text": [
            "enter number 1 :10\n",
            "second number :2\n",
            "addition  12\n",
            "subraction  8\n",
            "multiplication  20\n",
            "division  5.0\n",
            "remainder  0\n",
            "quotient  5\n"
          ]
        }
      ]
    },
    {
      "cell_type": "code",
      "source": [
        "#days to year converter\n",
        "\n",
        "days = int(input(\"enter the days in number :\"))\n",
        "years = days//365\n",
        "temp_left = days%365\n",
        "months = temp_left//30\n",
        "days = temp_left%30 \n",
        "\n",
        "print(years , \": years ,\",months , \": months ,\", days,\": days \")"
      ],
      "metadata": {
        "colab": {
          "base_uri": "https://localhost:8080/"
        },
        "id": "aQU6QZB8nN4Z",
        "outputId": "edf8ca3a-e0bc-487f-f27f-0fcd569ca190"
      },
      "execution_count": null,
      "outputs": [
        {
          "output_type": "stream",
          "name": "stdout",
          "text": [
            "enter the days in number :3695\n",
            "10 : years , 1 : months , 15 : days \n"
          ]
        }
      ]
    },
    {
      "cell_type": "code",
      "source": [
        "#smallest among 3\n",
        "\n",
        "a = int(input(\"enter no 1 :\"))\n",
        "b = int(input(\"enter no 2 :\"))\n",
        "c = int(input(\"enter no 3 :\"))\n",
        "\n",
        "if (a<b and a<c):\n",
        "  print(a ,\" is the smallest integer among these \")\n",
        "elif (b<a and b<c):\n",
        "  print(b , \" is the smallest integer among these \")\n",
        "else:\n",
        "  print(c , \" is the smallest integer among these \")\n"
      ],
      "metadata": {
        "id": "Y-XCDpBtr5EL",
        "colab": {
          "base_uri": "https://localhost:8080/"
        },
        "outputId": "3d8282bb-35b4-4a91-8b9e-5557bb15bbd6"
      },
      "execution_count": 9,
      "outputs": [
        {
          "output_type": "stream",
          "name": "stdout",
          "text": [
            "enter no 1 :102\n",
            "enter no 2 :54\n",
            "enter no 3 :37\n",
            "37  is the smallest integer among these \n"
          ]
        }
      ]
    },
    {
      "cell_type": "code",
      "source": [
        "#check is no1 is multiple of no2\n",
        "\n",
        "a = int(input(\"enter no 1:\"))\n",
        "b = int(input(\"enter no 2:\"))\n",
        "\n",
        "#check both cases\n",
        "\n",
        "if(b%a == 0):\n",
        "    print(a , \"is a multiple of \",b)\n",
        "elif(a%b==0):\n",
        "    print(b, \"is a multiple of \",a)\n",
        "else:\n",
        "    print(\"given no's are not multipltes\")\n"
      ],
      "metadata": {
        "colab": {
          "base_uri": "https://localhost:8080/"
        },
        "id": "TyGGkAogHIuu",
        "outputId": "4c7fbf25-db99-4fcb-9cbc-e69c90eb76af"
      },
      "execution_count": null,
      "outputs": [
        {
          "output_type": "stream",
          "name": "stdout",
          "text": [
            "enter no 1:11\n",
            "enter no 2:4\n",
            "given no's are not multiplt\n"
          ]
        }
      ]
    },
    {
      "cell_type": "code",
      "source": [
        "#sum of integers in the given no\n",
        "\n",
        "a = int(input(\"enter the integer \"))\n",
        "b = a\n",
        "i,sum,j=0,0,1\n",
        "\n",
        "\n",
        "while(a>0):\n",
        "  a=a//10\n",
        "  i+=1\n",
        "\n",
        "while(j<=i):\n",
        "  sum = sum + b%10 #find and add integers individually\n",
        "  b=b//10\n",
        "  j+=1\n",
        "\n",
        "print(\"sum of integers in the number \",sum)"
      ],
      "metadata": {
        "colab": {
          "base_uri": "https://localhost:8080/"
        },
        "id": "Kar4YRqjI635",
        "outputId": "02efb1b4-3132-4c8b-8373-62c8a35ff388"
      },
      "execution_count": null,
      "outputs": [
        {
          "output_type": "stream",
          "name": "stdout",
          "text": [
            "enter the integer 1355\n",
            "sum of integers in the number  14\n"
          ]
        }
      ]
    },
    {
      "cell_type": "code",
      "source": [
        "#reverse a given integer\n",
        "i,sum,j=0,0,1\n",
        "\n",
        "a = int(input(\"enter the nmumber to reverse :\"))\n",
        "b=a\n",
        "\n",
        "while(a>0): #find no of integers in the given no\n",
        "  a=a//10\n",
        "  i+=1\n",
        "\n",
        "while(j<=i):\n",
        "  sum = sum*10 + b%10  #reverse the integer\n",
        "  b=b//10\n",
        "  j+=1\n",
        "\n",
        "print(\"the reversed number is \" ,sum)"
      ],
      "metadata": {
        "colab": {
          "base_uri": "https://localhost:8080/"
        },
        "id": "Uf0Jm27_KbTG",
        "outputId": "81178fef-7952-44cc-cdbf-2f4e178e566f"
      },
      "execution_count": null,
      "outputs": [
        {
          "output_type": "stream",
          "name": "stdout",
          "text": [
            "enter the nmumber to reverse :1133\n",
            "the reversed number is  3311\n"
          ]
        }
      ]
    },
    {
      "cell_type": "code",
      "source": [
        "#palindrome number \n",
        "i,sum,j=0,0,1\n",
        "a = int(input(\"enter the nmumber to reverse :\"))\n",
        "b = a\n",
        "temp = a\n",
        "\n",
        "while(a>0): #find no of integers in the given no\n",
        "  a=a//10 \n",
        "  i+=1\n",
        "\n",
        "while(j<=i):\n",
        "  sum = sum*10 + b%10 #reverse the integer\n",
        "  b=b//10\n",
        "  j+=1\n",
        "\n",
        "if(temp == sum):\n",
        "  print(temp ,\" is a palindrome number \")\n",
        "else:\n",
        "  print(temp , \" is not a palindrome number \")\n",
        "    "
      ],
      "metadata": {
        "colab": {
          "base_uri": "https://localhost:8080/"
        },
        "id": "3wwra1iwPHIo",
        "outputId": "d869ac80-2d67-4eb8-d2c2-e3adcbbb6bc8"
      },
      "execution_count": null,
      "outputs": [
        {
          "output_type": "stream",
          "name": "stdout",
          "text": [
            "enter the nmumber to reverse :113311\n",
            "it is a palindrome number \n"
          ]
        }
      ]
    },
    {
      "cell_type": "code",
      "source": [
        "#armstrong\n",
        "\n",
        "i,sum,j=0,0,1\n",
        "a = int(input(\"enter the nmumber to check armstrong :\"))\n",
        "b = a\n",
        "temp = a\n",
        "\n",
        "while(a>0): #find no of integers in the given no\n",
        "  a=a//10 \n",
        "  i+=1\n",
        "\n",
        "while (j<=i):\n",
        "  sum = sum + (b%10)**i\n",
        "  b=b//10\n",
        "  j+=1\n",
        "\n",
        "if (sum == temp):\n",
        "  print(temp , \" is an armstrong number \")\n",
        "else :\n",
        "  print(temp , \" is not an armstrong number \")"
      ],
      "metadata": {
        "colab": {
          "base_uri": "https://localhost:8080/"
        },
        "id": "NgFKr9Y_P78u",
        "outputId": "46eeb24d-0e20-4bac-a84c-90c86cbc4dda"
      },
      "execution_count": null,
      "outputs": [
        {
          "output_type": "stream",
          "name": "stdout",
          "text": [
            "enter the nmumber to check armstrong :33\n",
            "33  is not an armstrong number \n"
          ]
        }
      ]
    },
    {
      "cell_type": "code",
      "source": [
        "#print n odd number\n",
        "n = int(input(\"enter the limit :\"))\n",
        "i=1\n",
        "while(i<=2*n):\n",
        "  if(i%2 != 0):\n",
        "    print(i)\n",
        "  i+=1  "
      ],
      "metadata": {
        "colab": {
          "base_uri": "https://localhost:8080/"
        },
        "id": "K6b_MsfWVXbx",
        "outputId": "284c521c-7217-479b-cdd2-b25ff55f01fb"
      },
      "execution_count": 4,
      "outputs": [
        {
          "output_type": "stream",
          "name": "stdout",
          "text": [
            "enter the limit :10\n",
            "1\n",
            "3\n",
            "5\n",
            "7\n",
            "9\n",
            "11\n",
            "13\n",
            "15\n",
            "17\n",
            "19\n"
          ]
        }
      ]
    },
    {
      "cell_type": "code",
      "source": [
        "#print n even number\n",
        "n = int(input(\"enter the limit :\"))\n",
        "i=1\n",
        "while(i<=2*n):\n",
        "  if(i%2 == 0):\n",
        "    print(i)\n",
        "  i+=1 "
      ],
      "metadata": {
        "colab": {
          "base_uri": "https://localhost:8080/"
        },
        "id": "uoG7pknHXQ60",
        "outputId": "6d3489c8-03c6-401c-ffc9-a6a5a59af0c4"
      },
      "execution_count": 5,
      "outputs": [
        {
          "output_type": "stream",
          "name": "stdout",
          "text": [
            "enter the limit :8\n",
            "2\n",
            "4\n",
            "6\n",
            "8\n",
            "10\n",
            "12\n",
            "14\n",
            "16\n"
          ]
        }
      ]
    },
    {
      "cell_type": "code",
      "source": [
        "#print sum of n integers\n",
        "\n",
        "sum = 0\n",
        "n = int(input(\"enter the limit :\"))\n",
        "i=1\n",
        "while (i<=n):\n",
        "  sum+=i\n",
        "  i+=1\n",
        "print(\"sum of first \",n,\" integers is \",sum)"
      ],
      "metadata": {
        "colab": {
          "base_uri": "https://localhost:8080/"
        },
        "id": "GDCUztvlX8iH",
        "outputId": "1d74cac3-e982-47fd-907b-bb5dc0d38e7d"
      },
      "execution_count": null,
      "outputs": [
        {
          "output_type": "stream",
          "name": "stdout",
          "text": [
            "enter the limit :5\n",
            "sum of first  5  integers is  15\n"
          ]
        }
      ]
    },
    {
      "cell_type": "code",
      "source": [
        "#area of triangle\n",
        "\n",
        "import math \n",
        "\n",
        "a = int(input(\"enter side 1:\"))\n",
        "b = int(input(\"enter side 2:\"))\n",
        "c = int(input(\"enter side 3:\"))\n",
        "\n",
        "s = (a+b+c)/2\n",
        "area = math.sqrt(s*(s-a)*(s-b)*(s-c))\n",
        "perimeter = a+b+c\n",
        "\n",
        "print(\"area of the traingle is :\",area,\"\\n perimeter of triangle is :\",perimeter)"
      ],
      "metadata": {
        "id": "VT_mdATZYd7_",
        "colab": {
          "base_uri": "https://localhost:8080/"
        },
        "outputId": "b04420be-c45b-4e34-9fad-58435df0c590"
      },
      "execution_count": null,
      "outputs": [
        {
          "output_type": "stream",
          "name": "stdout",
          "text": [
            "enter side 1:5\n",
            "enter side 2:5\n",
            "enter side 3:5\n",
            "area of the traingle is : 10.825317547305483 \n",
            " perimeter of triangle is : 15\n"
          ]
        }
      ]
    },
    {
      "cell_type": "code",
      "source": [
        "#number line problem\n",
        "\n",
        "a = int(input(\"enter lower limit : \"))\n",
        "b = int(input(\"enter upper limit : \"))\n",
        "\n",
        "distance = b-a\n",
        "\n",
        "if distance<0:\n",
        "  distance = -1*distance\n",
        "  print(\"distance b/w the numbers in number line is \",distance)\n",
        "else:\n",
        "  print(\"distance b/w the numbers in number line is \",distance)\n"
      ],
      "metadata": {
        "colab": {
          "base_uri": "https://localhost:8080/"
        },
        "id": "v5-npajRBtjH",
        "outputId": "96a50b9a-25a1-44a4-8d84-ac909d0c0c7a"
      },
      "execution_count": null,
      "outputs": [
        {
          "output_type": "stream",
          "name": "stdout",
          "text": [
            "enter lower limit : -5\n",
            "enter upper limit : 0\n",
            "distance b/w the numbers in number line is  5\n"
          ]
        }
      ]
    },
    {
      "cell_type": "code",
      "source": [
        "#to check if number is two digit\n",
        "\n",
        "a = int(input(\"enter the number : \"))\n",
        "if(a>9 and a<100):\n",
        "  print(a,\" a two digit number \")\n",
        "else:\n",
        "  print(b\" is not a two digit number \")\n",
        "    "
      ],
      "metadata": {
        "colab": {
          "base_uri": "https://localhost:8080/"
        },
        "id": "bh8y-UQYDI7G",
        "outputId": "7af29db6-ba2d-444f-d3ba-65b8b3ce5194"
      },
      "execution_count": null,
      "outputs": [
        {
          "output_type": "stream",
          "name": "stdout",
          "text": [
            "enter the number : 55\n",
            "55  a two digit number \n"
          ]
        }
      ]
    },
    {
      "cell_type": "code",
      "source": [
        "#to check if the number is negative or positve or zero\n",
        "\n",
        "a = int(input(\"enter the number : \"))\n",
        "\n",
        "if a>0:\n",
        "  print(\"positive number\")\n",
        "elif a<0:\n",
        "  print(\"negtaive number\")  \n",
        "else:\n",
        "  print(\"the number is zero\")  "
      ],
      "metadata": {
        "colab": {
          "base_uri": "https://localhost:8080/"
        },
        "id": "EI5Feh7QEPgW",
        "outputId": "c799cc72-5bd9-42c8-ec0a-68ec5230b24b"
      },
      "execution_count": null,
      "outputs": [
        {
          "output_type": "stream",
          "name": "stdout",
          "text": [
            "enter the number : 0\n",
            "the number is zero\n"
          ]
        }
      ]
    },
    {
      "cell_type": "code",
      "source": [
        "#roots of quadratic equation\n",
        "\n",
        "import cmath\n",
        "a = int(input(\"enter coefficient of x^2 : \"))\n",
        "b = int(input(\"enter coefficient of x : \"))\n",
        "c = int(input(\"enter constant : \"))\n",
        "\n",
        "determinant = b**2-(4*a*c)\n",
        "\n",
        "if determinant>0:\n",
        "  root1 = (-b+math.sqrt(determinant))/(2*a)\n",
        "  root2 = (-b-math.sqrt(determinant))/(2*a)\n",
        "  print(\"the roots are unique and are \",root1,\" and \",root2)\n",
        "\n",
        "elif determinant == 0:\n",
        "  root1 = (-b)/(2*a)\n",
        "  print(\"the roots are equal which are \",root1,\" and \",root1)\n",
        "\n",
        "else:\n",
        "      root1 = (-b + cmath.sqrt(determinant))/ (2*a)\n",
        "      root2 = (-b - cmath.sqrt(determinant))/ (2*a)\n",
        "      print(\"the roots are complex roots: \" ,root1,\" and \",root2)\n",
        "  "
      ],
      "metadata": {
        "colab": {
          "base_uri": "https://localhost:8080/"
        },
        "id": "4KvcV4i9E9bV",
        "outputId": "f71b8405-3e7c-4fd3-c24d-02125af2b1c7"
      },
      "execution_count": null,
      "outputs": [
        {
          "output_type": "stream",
          "name": "stdout",
          "text": [
            "enter coefficient of x^2 : 1\n",
            "enter coefficient of x : 5\n",
            "enter constant : 6\n",
            "the roots are unique and are  -2.0  and  -3.0\n"
          ]
        }
      ]
    },
    {
      "cell_type": "code",
      "source": [
        "#sum of factors of a number\n",
        "\n",
        "a = int(input(\"enter the number : \"))\n",
        "b,sum = 1,0\n",
        "while b<=a:\n",
        "  if(a%b == 0):\n",
        "    sum = sum+b\n",
        "  b+=1\n",
        "\n",
        "print(\"sum of factors of the number is \",sum)"
      ],
      "metadata": {
        "colab": {
          "base_uri": "https://localhost:8080/"
        },
        "id": "TXSfvplvHPL8",
        "outputId": "4a6bcf55-6e6a-46eb-ffd9-6d232b4e6904"
      },
      "execution_count": null,
      "outputs": [
        {
          "output_type": "stream",
          "name": "stdout",
          "text": [
            "enter the number : 4\n",
            "sum of factors of the number is  7\n"
          ]
        }
      ]
    },
    {
      "cell_type": "code",
      "source": [
        "#n terms of arithmetic sequence\n",
        "\n",
        "a = int(input(\"enter the first term : \"))\n",
        "d = int(input(\"enter the common difference : \"))\n",
        "n = int(input(\"enter the no of terms : \"))\n",
        "\n",
        "i=1\n",
        "\n",
        "while(i<=n):\n",
        "  print(a)\n",
        "  a=a+d\n",
        "  i+=1"
      ],
      "metadata": {
        "colab": {
          "base_uri": "https://localhost:8080/"
        },
        "id": "K3tnpCwNKR0L",
        "outputId": "2225acb2-6f2e-436b-8ab8-a652d74763df"
      },
      "execution_count": null,
      "outputs": [
        {
          "output_type": "stream",
          "name": "stdout",
          "text": [
            "enter the first term : -5\n",
            "enter the common difference : 2\n",
            "enter the no of terms : 9\n",
            "-5\n",
            "-3\n",
            "-1\n",
            "1\n",
            "3\n",
            "5\n",
            "7\n",
            "9\n",
            "11\n"
          ]
        }
      ]
    },
    {
      "cell_type": "code",
      "source": [
        "#fibonacci\n",
        "\n",
        "n = int(input(\"enter the number of terms : \"))\n",
        "a,b,i = 0,1,1\n",
        "\n",
        "if n==0:\n",
        "  print(\"enter a number greater than 0\")\n",
        "\n",
        "elif(n==1):\n",
        "  print(a)\n",
        "  \n",
        "else:    \n",
        "  print(a)\n",
        "  print(b)\n",
        "\n",
        "  while(i<=n-2):\n",
        "    c = a+b\n",
        "    a = b\n",
        "    b = c\n",
        "    print(c)\n",
        "    i+=1"
      ],
      "metadata": {
        "colab": {
          "base_uri": "https://localhost:8080/"
        },
        "id": "i9i7uMzZM9_a",
        "outputId": "7c919662-0a09-475a-a374-419c5f62a493"
      },
      "execution_count": 7,
      "outputs": [
        {
          "output_type": "stream",
          "name": "stdout",
          "text": [
            "enter the number of terms : 8\n",
            "0\n",
            "1\n",
            "1\n",
            "2\n",
            "3\n",
            "5\n",
            "8\n",
            "13\n"
          ]
        }
      ]
    },
    {
      "cell_type": "code",
      "source": [
        "#factorial\n",
        "\n",
        "def factorial(n):\n",
        "  p=1\n",
        "  while(n>=1):\n",
        "    p=p*n\n",
        "    n=n-1\n",
        "  return p\n",
        "  \n",
        "n = int(input(\"enter the number to find factorial : \"))\n",
        "print(\"the factorial of the given number is : \",factorial(n))  \n"
      ],
      "metadata": {
        "colab": {
          "base_uri": "https://localhost:8080/"
        },
        "id": "Jh8avufvNMfY",
        "outputId": "6a85114d-eeee-4c31-ef5f-43eced011240"
      },
      "execution_count": null,
      "outputs": [
        {
          "output_type": "stream",
          "name": "stdout",
          "text": [
            "enter the number to find factorial : 10\n",
            "the factorial of the given number is :  3628800\n"
          ]
        }
      ]
    },
    {
      "cell_type": "code",
      "source": [
        "#x^n\n",
        "\n",
        "x = int(input(\"value of base : \"))\n",
        "n = int(input(\"value of power : \"))\n",
        "a = 1\n",
        "i = 1\n",
        "while i<=n:\n",
        "  a=a*x\n",
        "  i+=1\n",
        "\n",
        "print(x,\"^\",n,\" is \",a)  "
      ],
      "metadata": {
        "colab": {
          "base_uri": "https://localhost:8080/"
        },
        "id": "V0n4aSTVP6BA",
        "outputId": "c4aa72e2-1c86-4041-ad57-5e0f7814d50f"
      },
      "execution_count": null,
      "outputs": [
        {
          "output_type": "stream",
          "name": "stdout",
          "text": [
            "value of base : 5\n",
            "value of power : 5\n",
            "5 ^ 5  is  3125\n"
          ]
        }
      ]
    },
    {
      "cell_type": "code",
      "source": [
        "#greatest common divisor\n",
        "def common_elements(list1, list2):\n",
        "    result = []\n",
        "    for number in list1:\n",
        "        if number in list2:\n",
        "            result.append(number)\n",
        "    return result\n",
        "\n",
        "def lists(num):\n",
        "  j=1\n",
        "  list1 = []\n",
        "  while(j<=num):\n",
        "    if num%j==0:\n",
        "      list1.append(j)\n",
        "    j+=1\n",
        "  return list1\n",
        "\n",
        "num1 = int(input(\"enter the number 1 : \"))\n",
        "num2 = int(input(\"enter the number 2 : \"))\n",
        "\n",
        "a = lists(num1)\n",
        "b = lists(num2)\n",
        "final = common_elements(a,b)\n",
        "\n",
        "print(\"gcd is \",final[len(final)-1])"
      ],
      "metadata": {
        "id": "Mzu5JX9fRJk3",
        "colab": {
          "base_uri": "https://localhost:8080/"
        },
        "outputId": "610abc27-c35d-48ec-a37a-8c23f39cb0c5"
      },
      "execution_count": null,
      "outputs": [
        {
          "output_type": "stream",
          "name": "stdout",
          "text": [
            "enter the number 1 : 100\n",
            "enter the number 2 : 50\n",
            "gcd is  50\n"
          ]
        }
      ]
    },
    {
      "cell_type": "code",
      "source": [
        "#automorphic number\n",
        "\n",
        "import sys\n",
        "a = int(input(\"enter the number : \"))\n",
        "b = a\n",
        "i,j = 0,1\n",
        "\n",
        "i = len(str(a))\n",
        "check = 10**i\n",
        "\n",
        "if a**2%check == b:\n",
        "  print(\"the given number is an automorphic number\")\n",
        "else:\n",
        "  print(\"the given number is not an automorphic number\")\n",
        "  "
      ],
      "metadata": {
        "id": "sj5hteEK-xd5",
        "colab": {
          "base_uri": "https://localhost:8080/"
        },
        "outputId": "8c228401-4dea-4af0-c148-67f5a262150c"
      },
      "execution_count": 8,
      "outputs": [
        {
          "output_type": "stream",
          "name": "stdout",
          "text": [
            "enter the number : 376\n",
            "the given number is an automorphic number\n"
          ]
        }
      ]
    },
    {
      "cell_type": "code",
      "source": [
        "#decimal to binary\n",
        "\n",
        "a = int(input(\"enter the decimal no : \"))\n",
        "b = a\n",
        "length = len(str(a))\n",
        "sum = 0\n",
        "i = 0\n",
        "while i<length:\n",
        "  check=a%10\n",
        "  if(check == 1):\n",
        "    sum+=2**i\n",
        "  i+=1\n",
        "  a=a//10\n",
        "\n",
        "print(\"the binary no of \",b,\" is \" , sum)    "
      ],
      "metadata": {
        "colab": {
          "base_uri": "https://localhost:8080/"
        },
        "id": "tFs5LjEVZVde",
        "outputId": "78f992d2-15a8-4da5-e4d6-1f2dab1e870a"
      },
      "execution_count": 10,
      "outputs": [
        {
          "output_type": "stream",
          "name": "stdout",
          "text": [
            "enter the decimal no : 1011\n",
            "the binary no of  1011  is  11\n"
          ]
        }
      ]
    },
    {
      "cell_type": "code",
      "source": [
        "#smallest digit in two digit\n",
        "\n",
        "a = int(input(\"enter the two digit number : \"))\n",
        "check1 = a//10\n",
        "check2 = a%10\n",
        "\n",
        "if(check1>check2):\n",
        "  print(check1 , \"is larger\")  \n",
        "elif (check1 == check2):  \n",
        "  print(\"both numbers are equal \")   \n",
        "else:\n",
        "  print(check2 , \"is larger\")   \n",
        "\n"
      ],
      "metadata": {
        "colab": {
          "base_uri": "https://localhost:8080/"
        },
        "id": "Ka3gsVXzjRQq",
        "outputId": "148fd02f-1393-4c8c-e9bc-fdbec3cab235"
      },
      "execution_count": null,
      "outputs": [
        {
          "output_type": "stream",
          "name": "stdout",
          "text": [
            "enter the two digit number : 96\n",
            "9 is larger\n"
          ]
        }
      ]
    },
    {
      "cell_type": "code",
      "source": [
        "#prime no check\n",
        "\n",
        "a = int(input(\"enter the number : \"))\n",
        "i = 2\n",
        "\n",
        "if a == 1:\n",
        "    print(a, \"is not a prime number\")\n",
        "\n",
        "elif a>1:\n",
        "  while i<=a/2:\n",
        "    if a%i == 0:\n",
        "      print(a, \"is not a prime number\")\n",
        "      break\n",
        "    i+=1\n",
        "\n",
        "  else :     \n",
        "    print(a, \"is a prime number\")  "
      ],
      "metadata": {
        "colab": {
          "base_uri": "https://localhost:8080/"
        },
        "id": "IiH0cZlzloP8",
        "outputId": "3afbe8e7-1d22-4594-cedd-f07c43c2a918"
      },
      "execution_count": null,
      "outputs": [
        {
          "output_type": "stream",
          "name": "stdout",
          "text": [
            "enter the number : 18\n",
            "18 is not a prime number\n"
          ]
        }
      ]
    }
  ]
}